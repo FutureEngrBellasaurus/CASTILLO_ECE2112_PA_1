{
 "cells": [
  {
   "cell_type": "markdown",
   "id": "4d81b5d8-e62f-4c15-853e-25299257aaaf",
   "metadata": {},
   "source": [
    "### Programming Assignment 1 - INTRODUCTION TO PYTHON PROGRAMMING\n",
    "#### By: CASTILLO, Aurabella Macy F.\n",
    "#### Section: 2ECE-C"
   ]
  },
  {
   "cell_type": "markdown",
   "id": "507c52e7-e235-4d4f-8594-e238f186f177",
   "metadata": {},
   "source": [
    "##### **PROBLEM 1** - ALPHABET SOUP PROBLEM: Create a function that takes a string and returns a string with its letters \n",
    "in alphabetical order."
   ]
  },
  {
   "cell_type": "code",
   "execution_count": 61,
   "id": "809db34a-677e-42e0-a680-13f52b355128",
   "metadata": {},
   "outputs": [
    {
     "name": "stdout",
     "output_type": "stream",
     "text": [
      "aaabellru\n"
     ]
    }
   ],
   "source": [
    "def alphabet_soup(string):\n",
    "    #Join the sorted strings\n",
    "    return ''.join(sorted(string))\n",
    "\n",
    "#Result\n",
    "sorted_string = alphabet_soup(\"aurabella\")\n",
    "print(sorted_string) "
   ]
  },
  {
   "cell_type": "markdown",
   "id": "879b228c-c9b9-4291-8acd-1180b6ebd96e",
   "metadata": {},
   "source": [
    "##### **Problem 2** - EMOTICON PROBLEM: Create a function that changes specific words into emoticons. Given a sentence \n",
    "as a string, replace the words smile, grin, sad and mad with their corresponding emoticon:"
   ]
  },
  {
   "cell_type": "code",
   "execution_count": 64,
   "id": "6801790f-ca05-44af-ba45-c0dd6689d011",
   "metadata": {},
   "outputs": [
    {
     "name": "stdout",
     "output_type": "stream",
     "text": [
      "I feel :(( kasi ako lang walang jowa saming magkakaibigan.\n"
     ]
    }
   ],
   "source": [
    "def emotify(sentence):\n",
    "    #Emoticon Dictionary\n",
    "    emotify={\"smile\":\":)\",\"grin\":\":D\",\"sad\":\":((\",\"mad\":\">:(\"}\n",
    "    #Split sentence into words\n",
    "    words = sentence.split()\n",
    "    #Convert words into emoticons\n",
    "    converted_words = [emotify[word] if word in emotify else word for word in words]\n",
    "    # Join the words back into a sentence\n",
    "    return ' '.join(converted_words)\n",
    "\n",
    "#Result\n",
    "result = emotify(\"I feel sad kasi ako lang walang jowa saming magkakaibigan.\")\n",
    "print(result)"
   ]
  },
  {
   "cell_type": "markdown",
   "id": "7ed93ce0-0f32-4430-bd15-72e773bb0d0f",
   "metadata": {},
   "source": [
    "##### **Problem 3** - UNPACKING LIST PROBLEM: Unpack the list writeyourcodehere into three variables, being first, middle, and last, with middle being everything in between the first and last element. Then print all three variableses"
   ]
  },
  {
   "cell_type": "code",
   "execution_count": 70,
   "id": "4c222705-e32d-47c3-a791-6847e1419d6d",
   "metadata": {},
   "outputs": [
    {
     "name": "stdout",
     "output_type": "stream",
     "text": [
      "First: 1\n",
      "Middle: [2, 3, 4, 5]\n",
      "Last: 6\n"
     ]
    }
   ],
   "source": [
    "#Initialize your list of numbers to unpacked\n",
    "writeyourcodehere = [1,2,3,4,5,6]\n",
    "\n",
    "#Unpacking the list\n",
    "first, *middle, last = writeyourcodehere\n",
    "\n",
    "#Printing the variables\n",
    "print(\"First:\", first)\n",
    "print(\"Middle:\", middle)\n",
    "print(\"Last:\", last)"
   ]
  },
  {
   "cell_type": "code",
   "execution_count": null,
   "id": "d87b6dc2-bdf9-4d5b-8529-ccfa7b7c1eff",
   "metadata": {},
   "outputs": [],
   "source": []
  }
 ],
 "metadata": {
  "kernelspec": {
   "display_name": "Python 3 (ipykernel)",
   "language": "python",
   "name": "python3"
  },
  "language_info": {
   "codemirror_mode": {
    "name": "ipython",
    "version": 3
   },
   "file_extension": ".py",
   "mimetype": "text/x-python",
   "name": "python",
   "nbconvert_exporter": "python",
   "pygments_lexer": "ipython3",
   "version": "3.12.4"
  }
 },
 "nbformat": 4,
 "nbformat_minor": 5
}
